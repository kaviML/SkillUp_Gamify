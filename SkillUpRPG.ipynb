{
 "cells": [
  {
   "cell_type": "raw",
   "id": "edd19f09-8edb-49b6-af55-56b5c4ccb6a2",
   "metadata": {},
   "source": [
    "The Secret to Connecting Classes — Object References\n",
    "\n",
    "When you pass an object (like player1) into another class,\n",
    "you are giving it access to that object’s data and methods.\n",
    "\n",
    "NOTE: Connecting ClasseS >> Pass one class’s object into another’s method, or store it as an attribute."
   ]
  },
  {
   "cell_type": "raw",
   "id": "f35a979a-f426-4a9e-bf9d-3797a83f8963",
   "metadata": {},
   "source": [
    "Bonus Tip — The Flow of Interaction\n",
    "When multiple classes work together, ask:\n",
    "1. Who owns the main data? (e.g., Player owns XP)\n",
    "2. Who triggers the action? (e.g., Habit or Skill)\n",
    "3. Who updates who? (e.g., Habit updates Player)\n",
    "4. Who just observes? (e.g., a Stats class might display info)\n",
    "If you can answer these, your OOP design will always be clean."
   ]
  },
  {
   "cell_type": "raw",
   "id": "14978fb3-64d5-473b-8344-38f0e930ac79",
   "metadata": {},
   "source": [
    "                                              Summary — How to Connect Classes\n",
    "          Method\t                             Example\t                                    Meaning\n",
    "Passing object as parameter\t            quest.complete(player1)     \t            Quest uses Player’s data and methods\n",
    "Storing objects in attributes       \tplayer1.skills.append(skill1)\t            Player contains Skill objects\n",
    "Calling methods from another class\t    player.add_xp() inside Quest\t            Direct interaction\n",
    "Composition (has-a relationship)\t    Player has a Skill, Quest has a reward\t    Real-world modeling"
   ]
  },
  {
   "cell_type": "raw",
   "id": "802685e9-616e-46c3-a31e-a4385811040b",
   "metadata": {},
   "source": [
    "Key Points\n",
    "\n",
    "self.player is a reference to the actual Player instance.\n",
    "Always operate on instance variables, not the class.\n",
    "Instance methods like showhabitslog must be called on an object, never on the class itself."
   ]
  },
  {
   "cell_type": "code",
   "execution_count": null,
   "id": "668ed128-e1d3-4564-961e-f02cae790d1d",
   "metadata": {},
   "outputs": [
    {
     "name": "stdout",
     "output_type": "stream",
     "text": [
      "Welcome to Skill UP RPG\n",
      "Save file found, loading player data...\n",
      "Hi Shush, welcome to RPG! You start with 0 XP\n",
      " *** MAIN MENU *** \n",
      "  1. Stats\n",
      "  2. Add Habit\n",
      "  3. View Habit\n",
      "  4. Mark Done\n",
      "  0. Exit\n"
     ]
    },
    {
     "name": "stdin",
     "output_type": "stream",
     "text": [
      "Your Choice(Option num.):  3\n"
     ]
    },
    {
     "name": "stdout",
     "output_type": "stream",
     "text": [
      "No Skill Found! Add one now...\n",
      "\n"
     ]
    },
    {
     "name": "stdin",
     "output_type": "stream",
     "text": [
      "Type Habit Name:  run\n"
     ]
    },
    {
     "name": "stdout",
     "output_type": "stream",
     "text": [
      "NEW Habit added Successfully: Run\n",
      "Exiting... to Main Menu\n"
     ]
    },
    {
     "name": "stdin",
     "output_type": "stream",
     "text": [
      "Press E for Main Menu e\n"
     ]
    },
    {
     "name": "stdout",
     "output_type": "stream",
     "text": [
      " *** MAIN MENU *** \n",
      "  1. Stats\n",
      "  2. Add Habit\n",
      "  3. View Habit\n",
      "  4. Mark Done\n",
      "  0. Exit\n"
     ]
    },
    {
     "name": "stdin",
     "output_type": "stream",
     "text": [
      "Your Choice(Option num.):  1\n"
     ]
    },
    {
     "name": "stdout",
     "output_type": "stream",
     "text": [
      "Your Name: Shush\n",
      "Your Total XP: 0\n",
      "Your Level: 0\n"
     ]
    },
    {
     "name": "stdin",
     "output_type": "stream",
     "text": [
      "Press E for Main Menu E\n"
     ]
    },
    {
     "name": "stdout",
     "output_type": "stream",
     "text": [
      " *** MAIN MENU *** \n",
      "  1. Stats\n",
      "  2. Add Habit\n",
      "  3. View Habit\n",
      "  4. Mark Done\n",
      "  0. Exit\n"
     ]
    }
   ],
   "source": [
    "## import json  #to save and load data\n",
    "import json\n",
    "import sys \n",
    "import os\n",
    "\n",
    "                                                #'''  To LOAD & SAVE DATE   '''\n",
    "def save_player_data(player):\n",
    "    data = {\n",
    "        \"playername\": player.playername,\n",
    "        \"xpbank\": player.xpbank,\n",
    "        \"playerlvl\": player.playerlvl,\n",
    "        \"habitslog\": player.habitslog\n",
    "    }\n",
    "    with open(\"playerdata.json\", \"w\") as f:\n",
    "        json.dump(data, f, indent=4)\n",
    "    print(\" Game saved!\")\n",
    "\n",
    "\n",
    "def load_player_data():\n",
    "    if os.path.exists(\"playerdata.json\"):\n",
    "        with open(\"playerdata.json\", \"r\") as f:\n",
    "            data = json.load(f)\n",
    "        print(\"Save file found, loading player data...\")\n",
    "        return data\n",
    "    else:\n",
    "        return None\n",
    "        \n",
    "                                            #''' Copied json code from web '''\n",
    "\n",
    "maxhabitcount = 0\n",
    "\n",
    "class Player:\n",
    "    def __init__(self, playername):\n",
    "        self.playername = playername\n",
    "        self.xpbank = 0      #this is initiation of player, therefore default kept as 0\n",
    "        self.playerlvl = 0\n",
    "        self.habitslog = []  #player profile creation, tiggers the blank list for habits to add/update etc\n",
    "        print(f\"Hi {self.playername}, welcome to RPG! You start with {self.xpbank} XP\")\n",
    "        #self.func_name()  by this way you can any function internally in class*********\n",
    "        \n",
    "    '''Since total xp should be calculated in players profile, so calculation method must be made in player class itself'''\n",
    "    def gotxp(self, habitsxp):   #add the method/variable of another class in parameter section to get access to its value\n",
    "        self.xpbank = self.xpbank + habitsxp #and no need of self. since its not form same class anyway\n",
    "        print(self.xpbank)  #print statement should alway come b4 if wanna show, else return line ends the code block\n",
    "        return self.xpbank\n",
    "        \n",
    "\n",
    "    def playerlev(self,habitsxp):\n",
    "        if self.xpbank >= habitsxp:\n",
    "            self.playerlvl += 1\n",
    "            print(f'WoHoOo...{self.playername}, you Leveled up! Level:{self.playerlvl}')\n",
    "        else:\n",
    "            print('Keep Grinding, Its all worthit!')\n",
    "\n",
    "    def playerstats(self):\n",
    "        print(f'Your Name: {self.playername}')\n",
    "        print(f'Your Total XP: {self.xpbank}')\n",
    "        print(f'Your Level: {self.xpbank}')\n",
    "\n",
    "    def showhabitslog(self):\n",
    "        maxhabitcount = 0\n",
    "        if not self.habitslog:  #no 'in' used here, and this block check if the list is empty or not and proceeds accordingly\n",
    "            print(\"No Skill Found! Add one now...\")\n",
    "            print('')  \n",
    "            habitname = input(\"Type Habit Name: \")\n",
    "            Skillup(self, habitname)\n",
    "            print('Exiting... to Main Menu')\n",
    "        else:\n",
    "            for i, habit in enumerate(self.habitslog, start = 1):\n",
    "                print(f\"{i}. {habit}\")\n",
    "\n",
    "\n",
    "class Skillup:                              #'player' here is OBJ from player class, TO LINK with skill class to respective player only-\n",
    "    def __init__(self, player, habitname):  #-not whole class.. NOTE: ORDER OF PARAMETERS MATTERS\n",
    "        self.player = player    #this code line MUST, it Create reference/link to respective player/object\n",
    "        self.habitname = habitname.strip().capitalize()\n",
    "        self.habitsxp = 15       #this is default value for each completion for corresponding habit\n",
    "        print(f\"NEW Habit added Successfully: {self.habitname}\")\n",
    "        self.player.habitslog.append(self.habitname)  ##this tags habit with player and append in habit list in player class\n",
    "        \n",
    "\n",
    "#It should work on the actual player OBJECT: DO NOT mix operation with class since operations must be done corresponding to player obj'''\n",
    "    def removehabit(self, player):    \n",
    "        self.player.showhabitslog()  ##TO ACCESS another Class's method/func: classname.funcname(self) is the syntax'''\n",
    "        choice = input('Which one to DEL.: ').strip().lower()\n",
    "        if choice in self.player.showhabitslog():\n",
    "            self.player.habitslog.remove(choice)\n",
    "            print(f\"{choice} Habit Deleted!!\")\n",
    "        else:\n",
    "            print(\"No Such Habit Found\")\n",
    "        save_player_data(self.player)  # 🔹 Auto-save when new habit added\n",
    "   \n",
    "        \n",
    "    def taskdone(self):\n",
    "        askforstatus = input('Task done? (Y/N): ').strip().replace(' ','').lower()\n",
    "        if askforstatus == 'y':\n",
    "            self.player.gotxp(self.habitsxp)\n",
    "            #return self.habitsxp   NO NEED of return statements here, cuz the data is transfered via JUST above line of code.\n",
    "        else:\n",
    "            self.habitsxp -= 1\n",
    "            self.player.gotxp(self.habitsxp)\n",
    "        save_player_data(self.player)  # 🔹 Auto-save progress after task\n",
    "\n",
    "#'''***'''    \n",
    "print('Welcome to Skill UP RPG')\n",
    "data = load_player_data()  # 🔹 Try loading save file first\n",
    "\n",
    "if data:\n",
    "    playerobject = Player(data[\"playername\"])\n",
    "    playerobject.xpbank = data[\"xpbank\"]\n",
    "    playerobject.playerlvl = data[\"playerlvl\"]\n",
    "    playerobject.habitslog = data[\"habitslog\"]\n",
    "else:\n",
    "    playername = input(\"Your Name: \").strip().capitalize()#creates variable/get the playername ONLY, doesnt creates player's profile/object\n",
    "    playerobject = Player(playername)      #Now this line will create player (object) with entered name just above\n",
    "    save_player_data(playerobject)  # 🔹 Save new player\n",
    "#'''***'''\n",
    "\n",
    "\n",
    "while True:   \n",
    "    \n",
    "    print(\" *** MAIN MENU *** \")\n",
    "    print(\"  1. Stats\")\n",
    "    print(\"  2. Add Habit\")\n",
    "    print(\"  3. View Habit\")\n",
    "    print(\"  4. Mark Done\")\n",
    "    print(\"  0. Exit\")\n",
    "    choice = input(\"Your Choice(Option num.): \").strip().replace(' ','')\n",
    "    chose = int(choice)\n",
    "    if chose == 1:\n",
    "        while True:\n",
    "            playerobject.playerstats()\n",
    "            exit = input('Press E for Main Menu').strip().lower()\n",
    "            if exit == 'e':\n",
    "                break\n",
    "    elif chose == 2:\n",
    "        while True:\n",
    "            habitname = input(\"Type Habit Name: \")\n",
    "            habitobject = Skillup(playerobject, habitname)\n",
    "            exit = input('Press E for Main Menu').strip().lower()\n",
    "            if exit == 'e':\n",
    "                break\n",
    "    elif chose == 3:\n",
    "        while True:\n",
    "            playerobject.showhabitslog()\n",
    "            exit = input('Press E for Main Menu').strip().lower()\n",
    "            if exit == 'e':\n",
    "                break\n",
    "    elif chose == 4:\n",
    "        while True:\n",
    "            if not playerobject.habitslog():\n",
    "                print(\"No Habit Yet!\")\n",
    "            else:\n",
    "                playerobject.showhabitslog()\n",
    "                markedhabit = input(\"Which Habit You Completed: \").strip().capitalize()\n",
    "                if markedhabit in playerobject.habitslog:\n",
    "                    tempdelhold = Skillup(playerobject, markedhabit)\n",
    "                    tempdelhold.taskdone()\n",
    "                    playerobject.playerlev()\n",
    "                else:\n",
    "                    print('No Such Habit!')\n",
    "            exit = input('Press E for Main Menu').strip().lower()\n",
    "            if exit == 'e':\n",
    "                break\n",
    "    elif chose == 0:\n",
    "        print(f\"Thanks {playername}, Keep Rising\")\n",
    "        sys.exit()\n",
    "\n",
    "    else:\n",
    "        print(\"Invalid Input! Plz Enter Right choice...\")\n",
    "        "
   ]
  },
  {
   "cell_type": "code",
   "execution_count": null,
   "id": "a68367af-c0f6-4521-8777-9b5a75df0385",
   "metadata": {},
   "outputs": [],
   "source": []
  }
 ],
 "metadata": {
  "kernelspec": {
   "display_name": "Python 3 (ipykernel)",
   "language": "python",
   "name": "python3"
  },
  "language_info": {
   "codemirror_mode": {
    "name": "ipython",
    "version": 3
   },
   "file_extension": ".py",
   "mimetype": "text/x-python",
   "name": "python",
   "nbconvert_exporter": "python",
   "pygments_lexer": "ipython3",
   "version": "3.13.5"
  }
 },
 "nbformat": 4,
 "nbformat_minor": 5
}
