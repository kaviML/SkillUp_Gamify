{
 "cells": [
  {
   "cell_type": "raw",
   "id": "edd19f09-8edb-49b6-af55-56b5c4ccb6a2",
   "metadata": {},
   "source": [
    "The Secret to Connecting Classes — Object References\n",
    "\n",
    "When you pass an object (like player1) into another class,\n",
    "you are giving it access to that object’s data and methods.\n",
    "\n",
    "NOTE: Connecting ClasseS >> Pass one class’s object into another’s method, or store it as an attribute."
   ]
  },
  {
   "cell_type": "raw",
   "id": "f35a979a-f426-4a9e-bf9d-3797a83f8963",
   "metadata": {},
   "source": [
    "Bonus Tip — The Flow of Interaction\n",
    "When multiple classes work together, ask:\n",
    "1. Who owns the main data? (e.g., Player owns XP)\n",
    "2. Who triggers the action? (e.g., Habit or Skill)\n",
    "3. Who updates who? (e.g., Habit updates Player)\n",
    "4. Who just observes? (e.g., a Stats class might display info)\n",
    "If you can answer these, your OOP design will always be clean."
   ]
  },
  {
   "cell_type": "raw",
   "id": "14978fb3-64d5-473b-8344-38f0e930ac79",
   "metadata": {},
   "source": [
    "                                              Summary — How to Connect Classes\n",
    "          Method\t                             Example\t                                    Meaning\n",
    "Passing object as parameter\t            quest.complete(player1)     \t            Quest uses Player’s data and methods\n",
    "Storing objects in attributes       \tplayer1.skills.append(skill1)\t            Player contains Skill objects\n",
    "Calling methods from another class\t    player.add_xp() inside Quest\t            Direct interaction\n",
    "Composition (has-a relationship)\t    Player has a Skill, Quest has a reward\t    Real-world modeling"
   ]
  },
  {
   "cell_type": "raw",
   "id": "802685e9-616e-46c3-a31e-a4385811040b",
   "metadata": {},
   "source": [
    "Key Points\n",
    "\n",
    "self.player is a reference to the actual Player instance.\n",
    "Always operate on instance variables, not the class.\n",
    "Instance methods like showhabitslog must be called on an object, never on the class itself."
   ]
  },
  {
   "cell_type": "code",
   "execution_count": 32,
   "id": "668ed128-e1d3-4564-961e-f02cae790d1d",
   "metadata": {},
   "outputs": [
    {
     "name": "stdin",
     "output_type": "stream",
     "text": [
      "Your Name:  yash\n"
     ]
    },
    {
     "name": "stdout",
     "output_type": "stream",
     "text": [
      "Hi Yash, welcome to RPG! You start with 0 XP\n",
      "New Habit added: Reading\n",
      "New Habit added: Dance\n",
      "Your Name: Yash\n",
      "Your Total XP: 0\n",
      "Your Level: 0\n",
      "1. Reading\n",
      "2. Dance\n"
     ]
    }
   ],
   "source": [
    "\n",
    "class Player:\n",
    "    def __init__(self, playername):\n",
    "        self.playername = playername\n",
    "        self.xpbank = 0      #this is initiation of player, therefore default kept as 0\n",
    "        self.playerlvl = 0\n",
    "        self.habitslog = []  #player profile creation, tiggers the blank list for habits to add/update etc\n",
    "        print(f\"Hi {self.playername}, welcome to RPG! You start with {self.xpbank} XP\")\n",
    "        #self.func_name()  by this way you can any function internally in class*********\n",
    "        \n",
    "    '''Since total xp should be calculated in players profile, so calculation method must be made in player class itself'''\n",
    "    def gotxp(self, habitsxp):   #add the method/variable of another class in parameter section to get access to its value\n",
    "        self.xpbank = self.xpbank + habitsxp #and no need of self. since its not form same class anyway\n",
    "        print(self.xpbank)  #print statement should alway come b4 if wanna show, else return line ends the code block\n",
    "        return self.xpbank\n",
    "        \n",
    "\n",
    "    def playerlev(self,habitsxp):\n",
    "        if self.xpbank >= habitsxp:\n",
    "            self.playerlvl += 1\n",
    "            print(f'WoHoOo...{self.playername}, you Leveled up! Level:{self.playerlvl}')\n",
    "        else:\n",
    "            print('Keep Grinding, Its all worthit!')\n",
    "\n",
    "    def playerstats(self):\n",
    "        print(f'Your Name: {self.playername}')\n",
    "        print(f'Your Total XP: {self.xpbank}')\n",
    "        print(f'Your Level: {self.xpbank}')\n",
    "\n",
    "    def showhabitslog(self):\n",
    "        if not self.habitslog:  #no 'in' used here, and this block check if the list is empty or not and proceeds accordingly\n",
    "            print(\"No Skill Found! eeesh...\")\n",
    "            print('Add one now to level up')\n",
    "            Skillup.addhabit(self, player)   \n",
    "        else:\n",
    "            for i, habit in enumerate(self.habitslog, start = 1):\n",
    "                print(f\"{i}. {habit}\")\n",
    "\n",
    "\n",
    "class Skillup:                              #'player' here is OBJ from player class, TO LINK with skill class to respective player only-\n",
    "    def __init__(self, player, habitname):  #-not whole class.. NOTE: ORDER OF PARAMETERS MATTERS\n",
    "        self.player = player    #this code line MUST, it Create reference/link to respective player/object\n",
    "        self.habitname = habitname.strip().capitalize()\n",
    "        self.habitsxp = 15       #this is default value for each completion for corresponding habit\n",
    "        print(f\"New Habit added: {self.habitname}\")\n",
    "        self.player.habitslog.append(self.habitname)  ##this tags habit with player and append in habit list in player class\n",
    "        \n",
    "\n",
    "#It should work on the actual player OBJECT: DO NOT mix operation with class since operations must be done corresponding to player obj'''\n",
    "    def removehabit(self, player):    \n",
    "        self.player.showhabitslog()  ##TO ACCESS another Class's method/func: classname.funcname(self) is the syntax'''\n",
    "        choice = input('Which one to DEL.: ').strip().lower()\n",
    "        if choice in self.player.showhabitslog():\n",
    "            self.player.habitslog.remove(choice)\n",
    "            print(f\"{choice} Habit Deleted!!\")\n",
    "        else:\n",
    "            print(\"No Such Habit Found\")\n",
    "            \n",
    "        \n",
    "    def taskdone(self):\n",
    "        askforstatus = input('Task done? (Y/N): ').strip().replace(' ','').lower()\n",
    "        if askforstatus == 'y':\n",
    "            self.player.gotxp(self.habitsxp)\n",
    "            #return self.habitsxp   NO NEED of return statements here, cuz the data is transfered via JUST above line of code.\n",
    "        else:\n",
    "            self.habitsxp -= 1\n",
    "            self.player.gotxp(self.habitsxp)\n",
    "            #return self.habitsxp\n",
    "\n",
    "\n",
    "name = input(\"Your Name: \").strip().capitalize()   #this line creates variable/get the playername ONLY, doesnt creates player's profile/object\n",
    "\n",
    "yash = Player(name)   #Now this line will create player (object) with entered name just above\n",
    "\n",
    "reading = Skillup(yash, 'Reading')\n",
    "dance = Skillup(yash, 'Dance')\n",
    "\n",
    "yash.playerstats()\n",
    "yash.showhabitslog()\n"
   ]
  },
  {
   "cell_type": "code",
   "execution_count": 33,
   "id": "bf0b85fc-9440-4c3f-bbd2-77346a4eb420",
   "metadata": {},
   "outputs": [
    {
     "name": "stdin",
     "output_type": "stream",
     "text": [
      "Task done? (Y/N):  y\n"
     ]
    },
    {
     "ename": "AttributeError",
     "evalue": "'Player' object has no attribute 'player'",
     "output_type": "error",
     "traceback": [
      "\u001b[1;31m---------------------------------------------------------------------------\u001b[0m",
      "\u001b[1;31mAttributeError\u001b[0m                            Traceback (most recent call last)",
      "Cell \u001b[1;32mIn[33], line 1\u001b[0m\n\u001b[1;32m----> 1\u001b[0m Skillup\u001b[38;5;241m.\u001b[39mtaskdone(yash)\n",
      "Cell \u001b[1;32mIn[32], line 62\u001b[0m, in \u001b[0;36mSkillup.taskdone\u001b[1;34m(self)\u001b[0m\n\u001b[0;32m     60\u001b[0m askforstatus \u001b[38;5;241m=\u001b[39m \u001b[38;5;28minput\u001b[39m(\u001b[38;5;124m'\u001b[39m\u001b[38;5;124mTask done? (Y/N): \u001b[39m\u001b[38;5;124m'\u001b[39m)\u001b[38;5;241m.\u001b[39mstrip()\u001b[38;5;241m.\u001b[39mreplace(\u001b[38;5;124m'\u001b[39m\u001b[38;5;124m \u001b[39m\u001b[38;5;124m'\u001b[39m,\u001b[38;5;124m'\u001b[39m\u001b[38;5;124m'\u001b[39m)\u001b[38;5;241m.\u001b[39mlower()\n\u001b[0;32m     61\u001b[0m \u001b[38;5;28;01mif\u001b[39;00m askforstatus \u001b[38;5;241m==\u001b[39m \u001b[38;5;124m'\u001b[39m\u001b[38;5;124my\u001b[39m\u001b[38;5;124m'\u001b[39m:\n\u001b[1;32m---> 62\u001b[0m     \u001b[38;5;28mself\u001b[39m\u001b[38;5;241m.\u001b[39mplayer\u001b[38;5;241m.\u001b[39mtotalxp(\u001b[38;5;28mself\u001b[39m\u001b[38;5;241m.\u001b[39mhabitsxp)\n\u001b[0;32m     63\u001b[0m     \u001b[38;5;66;03m#return self.habitsxp   NO NEED of return statements here, cuz the data is transfered via JUST above line of code.\u001b[39;00m\n\u001b[0;32m     64\u001b[0m \u001b[38;5;28;01melse\u001b[39;00m:\n\u001b[0;32m     65\u001b[0m     \u001b[38;5;28mself\u001b[39m\u001b[38;5;241m.\u001b[39mhabitsxp \u001b[38;5;241m-\u001b[39m\u001b[38;5;241m=\u001b[39m \u001b[38;5;241m1\u001b[39m\n",
      "\u001b[1;31mAttributeError\u001b[0m: 'Player' object has no attribute 'player'"
     ]
    }
   ],
   "source": [
    "reading.taskdone()"
   ]
  },
  {
   "cell_type": "code",
   "execution_count": null,
   "id": "a68367af-c0f6-4521-8777-9b5a75df0385",
   "metadata": {},
   "outputs": [],
   "source": []
  },
  {
   "cell_type": "code",
   "execution_count": 31,
   "id": "f4c73bb6-c34b-4d91-832f-563d345d842e",
   "metadata": {},
   "outputs": [
    {
     "name": "stdout",
     "output_type": "stream",
     "text": [
      " *** MAIN MENU *** \n",
      "  1. Stats\n",
      "  2. Add Habit\n",
      "  3. View Habit\n",
      "  4. Mark Done\n",
      "  0. Exit\n"
     ]
    }
   ],
   "source": [
    "\n",
    "\n",
    "print(\" *** MAIN MENU *** \")\n",
    "print(\"  1. Stats\")\n",
    "print(\"  2. Add Habit\")\n",
    "print(\"  3. View Habit\")\n",
    "print(\"  4. Mark Done\")\n",
    "print(\"  0. Exit\")\n"
   ]
  },
  {
   "cell_type": "code",
   "execution_count": null,
   "id": "947dc070-82f1-464f-ba85-430ad5eed589",
   "metadata": {},
   "outputs": [],
   "source": []
  },
  {
   "cell_type": "code",
   "execution_count": null,
   "id": "919997d7-842d-4607-95cf-ff2f896b6ac8",
   "metadata": {},
   "outputs": [],
   "source": []
  },
  {
   "cell_type": "code",
   "execution_count": null,
   "id": "29baa47b-8b2c-4cf4-91fc-ba0e6336e049",
   "metadata": {},
   "outputs": [],
   "source": []
  },
  {
   "cell_type": "code",
   "execution_count": null,
   "id": "55d7f400-9b27-432d-b5b7-ad2876c037d3",
   "metadata": {},
   "outputs": [],
   "source": []
  },
  {
   "cell_type": "code",
   "execution_count": null,
   "id": "0ea41b92-e0d6-4262-8271-d399fe304517",
   "metadata": {},
   "outputs": [],
   "source": []
  }
 ],
 "metadata": {
  "kernelspec": {
   "display_name": "Python 3 (ipykernel)",
   "language": "python",
   "name": "python3"
  },
  "language_info": {
   "codemirror_mode": {
    "name": "ipython",
    "version": 3
   },
   "file_extension": ".py",
   "mimetype": "text/x-python",
   "name": "python",
   "nbconvert_exporter": "python",
   "pygments_lexer": "ipython3",
   "version": "3.13.5"
  }
 },
 "nbformat": 4,
 "nbformat_minor": 5
}
